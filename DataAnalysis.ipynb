{
 "cells": [
  {
   "cell_type": "code",
   "execution_count": 2,
   "id": "941c5b60-5d3b-4f8e-b7c4-4e4f721c5d3b",
   "metadata": {
    "tags": []
   },
   "outputs": [],
   "source": [
    "import sys\n",
    "import numpy as np"
   ]
  },
  {
   "cell_type": "code",
   "execution_count": 3,
   "id": "17c72c46-0b9c-4f60-8b91-8589bd5c3e33",
   "metadata": {
    "tags": []
   },
   "outputs": [
    {
     "data": {
      "text/plain": [
       "array([1, 2, 3, 4])"
      ]
     },
     "execution_count": 3,
     "metadata": {},
     "output_type": "execute_result"
    }
   ],
   "source": [
    "np.array([1,2,3,4])"
   ]
  },
  {
   "cell_type": "code",
   "execution_count": 4,
   "id": "c452986d-24c5-41e0-99bd-8fa45f282409",
   "metadata": {
    "tags": []
   },
   "outputs": [],
   "source": [
    "a = np.array([1,2,3,4])"
   ]
  },
  {
   "cell_type": "code",
   "execution_count": 5,
   "id": "53e60f43-6def-4ed9-82e4-585273def219",
   "metadata": {
    "tags": []
   },
   "outputs": [],
   "source": [
    "b = np.array([0, .5, 1, 1.5, 2])"
   ]
  },
  {
   "cell_type": "code",
   "execution_count": 6,
   "id": "ae8209e0-46cc-4045-9893-fca7a2c6205d",
   "metadata": {
    "tags": []
   },
   "outputs": [
    {
     "data": {
      "text/plain": [
       "(1, 2)"
      ]
     },
     "execution_count": 6,
     "metadata": {},
     "output_type": "execute_result"
    }
   ],
   "source": [
    "a[0], a[1]"
   ]
  },
  {
   "cell_type": "code",
   "execution_count": 7,
   "id": "63a3a166-1edc-4f65-97d0-66a62c75aae2",
   "metadata": {
    "tags": []
   },
   "outputs": [
    {
     "data": {
      "text/plain": [
       "array([1, 2, 3, 4])"
      ]
     },
     "execution_count": 7,
     "metadata": {},
     "output_type": "execute_result"
    }
   ],
   "source": [
    "a[0:]"
   ]
  },
  {
   "cell_type": "code",
   "execution_count": 8,
   "id": "0ef71fae-4b5a-4766-8446-a12465ebda97",
   "metadata": {
    "tags": []
   },
   "outputs": [
    {
     "data": {
      "text/plain": [
       "array([2, 3])"
      ]
     },
     "execution_count": 8,
     "metadata": {},
     "output_type": "execute_result"
    }
   ],
   "source": [
    "a[1:3]"
   ]
  },
  {
   "cell_type": "code",
   "execution_count": 9,
   "id": "4f5f2751-db29-4b05-8b80-4a7d26b0a83a",
   "metadata": {
    "tags": []
   },
   "outputs": [
    {
     "data": {
      "text/plain": [
       "array([2, 3])"
      ]
     },
     "execution_count": 9,
     "metadata": {},
     "output_type": "execute_result"
    }
   ],
   "source": [
    "a[1:-1]"
   ]
  },
  {
   "cell_type": "code",
   "execution_count": 10,
   "id": "165b3571-3c8e-4daf-982e-819849e09fef",
   "metadata": {
    "tags": []
   },
   "outputs": [
    {
     "data": {
      "text/plain": [
       "array([1, 3])"
      ]
     },
     "execution_count": 10,
     "metadata": {},
     "output_type": "execute_result"
    }
   ],
   "source": [
    "a[::2]"
   ]
  },
  {
   "cell_type": "code",
   "execution_count": 11,
   "id": "cd2fe3bd-98a9-40f7-b210-fdf91fb0b5a9",
   "metadata": {
    "tags": []
   },
   "outputs": [
    {
     "data": {
      "text/plain": [
       "(0.0, 1.0, 2.0)"
      ]
     },
     "execution_count": 11,
     "metadata": {},
     "output_type": "execute_result"
    }
   ],
   "source": [
    "b[0], b[2], b[-1]"
   ]
  },
  {
   "cell_type": "code",
   "execution_count": 12,
   "id": "695de1e3-ae79-47db-94db-7f77fe42a7bd",
   "metadata": {
    "tags": []
   },
   "outputs": [
    {
     "data": {
      "text/plain": [
       "array([0., 1., 2.])"
      ]
     },
     "execution_count": 12,
     "metadata": {},
     "output_type": "execute_result"
    }
   ],
   "source": [
    "b[[0,2,-1]]"
   ]
  },
  {
   "cell_type": "markdown",
   "id": "b74e4479-dd0b-4c49-8f41-b804070eae89",
   "metadata": {},
   "source": [
    "## Array types"
   ]
  },
  {
   "cell_type": "code",
   "execution_count": 13,
   "id": "04df749a-aa0e-4394-a7b1-4a793169e54a",
   "metadata": {
    "tags": []
   },
   "outputs": [
    {
     "data": {
      "text/plain": [
       "array([1, 2, 3, 4])"
      ]
     },
     "execution_count": 13,
     "metadata": {},
     "output_type": "execute_result"
    }
   ],
   "source": [
    "a"
   ]
  },
  {
   "cell_type": "code",
   "execution_count": 14,
   "id": "7f22da64-b027-415d-b8ac-dbd7be71428c",
   "metadata": {
    "tags": []
   },
   "outputs": [
    {
     "data": {
      "text/plain": [
       "dtype('int64')"
      ]
     },
     "execution_count": 14,
     "metadata": {},
     "output_type": "execute_result"
    }
   ],
   "source": [
    "a.dtype"
   ]
  },
  {
   "cell_type": "code",
   "execution_count": 15,
   "id": "0199680b-1fea-454d-88ef-064f9a36b168",
   "metadata": {
    "tags": []
   },
   "outputs": [
    {
     "data": {
      "text/plain": [
       "array([0. , 0.5, 1. , 1.5, 2. ])"
      ]
     },
     "execution_count": 15,
     "metadata": {},
     "output_type": "execute_result"
    }
   ],
   "source": [
    "b"
   ]
  },
  {
   "cell_type": "code",
   "execution_count": 16,
   "id": "aa460a18-7ab4-4b52-b0f2-bef7381e0a09",
   "metadata": {
    "tags": []
   },
   "outputs": [
    {
     "data": {
      "text/plain": [
       "dtype('float64')"
      ]
     },
     "execution_count": 16,
     "metadata": {},
     "output_type": "execute_result"
    }
   ],
   "source": [
    "b.dtype"
   ]
  },
  {
   "cell_type": "code",
   "execution_count": 19,
   "id": "1ee6d130-48b9-4ec1-9593-e67ec7d259e9",
   "metadata": {
    "tags": []
   },
   "outputs": [
    {
     "data": {
      "text/plain": [
       "array([1., 2., 3., 4.])"
      ]
     },
     "execution_count": 19,
     "metadata": {},
     "output_type": "execute_result"
    }
   ],
   "source": [
    "np.array([1,2,3,4], dtype=float)"
   ]
  },
  {
   "cell_type": "code",
   "execution_count": 20,
   "id": "1be5b2fc-ed12-4afa-a925-ed21f047e9f2",
   "metadata": {
    "tags": []
   },
   "outputs": [
    {
     "data": {
      "text/plain": [
       "array([1, 2, 3, 4])"
      ]
     },
     "execution_count": 20,
     "metadata": {},
     "output_type": "execute_result"
    }
   ],
   "source": [
    "np.array([1,2,3,4], dtype=int)"
   ]
  },
  {
   "cell_type": "code",
   "execution_count": 21,
   "id": "3a813963-8e4a-4b46-b4f2-33dac7d0534a",
   "metadata": {
    "tags": []
   },
   "outputs": [],
   "source": [
    "c = np.array(['a','b','c'])"
   ]
  },
  {
   "cell_type": "code",
   "execution_count": 22,
   "id": "a748fc55-c635-4aa1-8c46-310666383f28",
   "metadata": {
    "tags": []
   },
   "outputs": [
    {
     "data": {
      "text/plain": [
       "dtype('<U1')"
      ]
     },
     "execution_count": 22,
     "metadata": {},
     "output_type": "execute_result"
    }
   ],
   "source": [
    "c.dtype"
   ]
  },
  {
   "cell_type": "code",
   "execution_count": 23,
   "id": "6f0b212f-b723-4b7c-aed9-26b4e191ba32",
   "metadata": {
    "tags": []
   },
   "outputs": [],
   "source": [
    "d = np.array([{'a':1}, sys])"
   ]
  },
  {
   "cell_type": "code",
   "execution_count": 24,
   "id": "ea4347fe-8980-4c7c-91cd-262aa9d50829",
   "metadata": {
    "tags": []
   },
   "outputs": [
    {
     "data": {
      "text/plain": [
       "dtype('O')"
      ]
     },
     "execution_count": 24,
     "metadata": {},
     "output_type": "execute_result"
    }
   ],
   "source": [
    "d.dtype"
   ]
  },
  {
   "cell_type": "markdown",
   "id": "ec33fe5b-6815-4814-9db9-644e5055e907",
   "metadata": {},
   "source": [
    "## Dimensions and shape"
   ]
  },
  {
   "cell_type": "code",
   "execution_count": 25,
   "id": "e2fff162-e5c7-469d-9b6c-fc4c39ab3d2c",
   "metadata": {
    "tags": []
   },
   "outputs": [],
   "source": [
    "A = np.array([\n",
    "    [1,2,3],\n",
    "    [4,5,6]\n",
    "])"
   ]
  },
  {
   "cell_type": "code",
   "execution_count": 26,
   "id": "d216765e-09a3-4f54-aabf-eccf108f4853",
   "metadata": {
    "tags": []
   },
   "outputs": [
    {
     "data": {
      "text/plain": [
       "(4,)"
      ]
     },
     "execution_count": 26,
     "metadata": {},
     "output_type": "execute_result"
    }
   ],
   "source": [
    "a.shape"
   ]
  },
  {
   "cell_type": "code",
   "execution_count": 28,
   "id": "3696323b-add8-4822-a85e-d24e376f8c68",
   "metadata": {
    "tags": []
   },
   "outputs": [
    {
     "data": {
      "text/plain": [
       "1"
      ]
     },
     "execution_count": 28,
     "metadata": {},
     "output_type": "execute_result"
    }
   ],
   "source": [
    "a.ndim"
   ]
  },
  {
   "cell_type": "code",
   "execution_count": 29,
   "id": "75c4e9e7-de8b-41e6-babd-fb8fad44c0c6",
   "metadata": {
    "tags": []
   },
   "outputs": [
    {
     "data": {
      "text/plain": [
       "6"
      ]
     },
     "execution_count": 29,
     "metadata": {},
     "output_type": "execute_result"
    }
   ],
   "source": [
    "A.size"
   ]
  },
  {
   "cell_type": "code",
   "execution_count": 30,
   "id": "129a0536-26aa-4640-8a24-0915b9b8f4aa",
   "metadata": {
    "tags": []
   },
   "outputs": [],
   "source": [
    "B = np.array([\n",
    "    [\n",
    "        [12,11,10],\n",
    "        [9,8,7]\n",
    "    ],\n",
    "    [\n",
    "        [6,5,4],\n",
    "        [3,2,1]\n",
    "    ]\n",
    "])"
   ]
  },
  {
   "cell_type": "code",
   "execution_count": 31,
   "id": "2a546728-0981-4fa6-b050-a84a694ba215",
   "metadata": {
    "tags": []
   },
   "outputs": [
    {
     "data": {
      "text/plain": [
       "array([[[12, 11, 10],\n",
       "        [ 9,  8,  7]],\n",
       "\n",
       "       [[ 6,  5,  4],\n",
       "        [ 3,  2,  1]]])"
      ]
     },
     "execution_count": 31,
     "metadata": {},
     "output_type": "execute_result"
    }
   ],
   "source": [
    "B"
   ]
  },
  {
   "cell_type": "code",
   "execution_count": 32,
   "id": "b9f44a97-0140-4d87-889c-97d326509429",
   "metadata": {
    "tags": []
   },
   "outputs": [
    {
     "data": {
      "text/plain": [
       "(2, 2, 3)"
      ]
     },
     "execution_count": 32,
     "metadata": {},
     "output_type": "execute_result"
    }
   ],
   "source": [
    "B.shape"
   ]
  },
  {
   "cell_type": "code",
   "execution_count": 34,
   "id": "a0a61cf1-caed-47ae-ad51-57d43b51b0ab",
   "metadata": {
    "tags": []
   },
   "outputs": [
    {
     "data": {
      "text/plain": [
       "3"
      ]
     },
     "execution_count": 34,
     "metadata": {},
     "output_type": "execute_result"
    }
   ],
   "source": [
    "B.ndim"
   ]
  },
  {
   "cell_type": "code",
   "execution_count": 35,
   "id": "d0b5fb0e-2bcb-4cdf-bffb-2efa31f7a1e6",
   "metadata": {
    "tags": []
   },
   "outputs": [
    {
     "data": {
      "text/plain": [
       "12"
      ]
     },
     "execution_count": 35,
     "metadata": {},
     "output_type": "execute_result"
    }
   ],
   "source": [
    "B.size"
   ]
  },
  {
   "cell_type": "code",
   "execution_count": 37,
   "id": "00a3b967-3d22-448d-9b9a-77697fd59779",
   "metadata": {
    "tags": []
   },
   "outputs": [],
   "source": [
    "c = np.array([\n",
    "    [\n",
    "        [12,11,10],\n",
    "        [9,8,7]\n",
    "    ],\n",
    "    [\n",
    "        [6,5,4],\n",
    "        [0,0,0]\n",
    "    ]\n",
    "])"
   ]
  },
  {
   "cell_type": "code",
   "execution_count": 38,
   "id": "fba74927-6901-451d-8ec5-a37da3a8e178",
   "metadata": {
    "tags": []
   },
   "outputs": [
    {
     "data": {
      "text/plain": [
       "dtype('int64')"
      ]
     },
     "execution_count": 38,
     "metadata": {},
     "output_type": "execute_result"
    }
   ],
   "source": [
    "c.dtype"
   ]
  },
  {
   "cell_type": "code",
   "execution_count": 39,
   "id": "fd85bfc5-6a6a-4b87-9add-cd9839a353ea",
   "metadata": {
    "tags": []
   },
   "outputs": [
    {
     "data": {
      "text/plain": [
       "(2, 2, 3)"
      ]
     },
     "execution_count": 39,
     "metadata": {},
     "output_type": "execute_result"
    }
   ],
   "source": [
    "c.shape"
   ]
  },
  {
   "cell_type": "markdown",
   "id": "dc69b2cf-0819-4e02-b9b2-b4270eeb4011",
   "metadata": {},
   "source": [
    "## Indexing and Slicing of Matrices"
   ]
  },
  {
   "cell_type": "code",
   "execution_count": 40,
   "id": "2a69083d-32d1-4af2-900e-2d6d5d779739",
   "metadata": {
    "tags": []
   },
   "outputs": [],
   "source": [
    "A = np.array([\n",
    "    [1,2,3],\n",
    "    [4,5,6],\n",
    "    [7,8,9]\n",
    "])"
   ]
  },
  {
   "cell_type": "code",
   "execution_count": 41,
   "id": "f250ca8a-ba48-4306-af67-5d353c6f951f",
   "metadata": {
    "tags": []
   },
   "outputs": [
    {
     "data": {
      "text/plain": [
       "array([4, 5, 6])"
      ]
     },
     "execution_count": 41,
     "metadata": {},
     "output_type": "execute_result"
    }
   ],
   "source": [
    "A[1]"
   ]
  },
  {
   "cell_type": "code",
   "execution_count": 42,
   "id": "5d23f4f7-e8c0-4293-91b0-0dd133bc92a6",
   "metadata": {
    "tags": []
   },
   "outputs": [
    {
     "data": {
      "text/plain": [
       "4"
      ]
     },
     "execution_count": 42,
     "metadata": {},
     "output_type": "execute_result"
    }
   ],
   "source": [
    "A[1][0]"
   ]
  },
  {
   "cell_type": "code",
   "execution_count": 43,
   "id": "84c7590c-8b9e-477d-9122-0d64c72985fd",
   "metadata": {
    "tags": []
   },
   "outputs": [
    {
     "data": {
      "text/plain": [
       "4"
      ]
     },
     "execution_count": 43,
     "metadata": {},
     "output_type": "execute_result"
    }
   ],
   "source": [
    "A[1,0]"
   ]
  },
  {
   "cell_type": "code",
   "execution_count": 44,
   "id": "cdcd88d6-014b-4537-8df0-48d1662e63c9",
   "metadata": {
    "tags": []
   },
   "outputs": [
    {
     "data": {
      "text/plain": [
       "array([[1, 2, 3],\n",
       "       [4, 5, 6]])"
      ]
     },
     "execution_count": 44,
     "metadata": {},
     "output_type": "execute_result"
    }
   ],
   "source": [
    "A[0:2]"
   ]
  },
  {
   "cell_type": "code",
   "execution_count": 45,
   "id": "35c210cd-cda5-4f2e-a9cd-c08c3ebf09d7",
   "metadata": {
    "tags": []
   },
   "outputs": [
    {
     "data": {
      "text/plain": [
       "array([[1, 2],\n",
       "       [4, 5],\n",
       "       [7, 8]])"
      ]
     },
     "execution_count": 45,
     "metadata": {},
     "output_type": "execute_result"
    }
   ],
   "source": [
    "A[:,:2]"
   ]
  },
  {
   "cell_type": "code",
   "execution_count": 46,
   "id": "302cee3f-385c-4749-82e1-c3c16c80468b",
   "metadata": {
    "tags": []
   },
   "outputs": [
    {
     "data": {
      "text/plain": [
       "array([[3],\n",
       "       [6]])"
      ]
     },
     "execution_count": 46,
     "metadata": {},
     "output_type": "execute_result"
    }
   ],
   "source": [
    "A[:2,2:]"
   ]
  },
  {
   "cell_type": "code",
   "execution_count": 47,
   "id": "a521ff06-6d22-421d-9fde-3b0a92c53763",
   "metadata": {
    "tags": []
   },
   "outputs": [
    {
     "data": {
      "text/plain": [
       "array([[1, 2],\n",
       "       [4, 5]])"
      ]
     },
     "execution_count": 47,
     "metadata": {},
     "output_type": "execute_result"
    }
   ],
   "source": [
    "A[:2,:2]"
   ]
  },
  {
   "cell_type": "code",
   "execution_count": 48,
   "id": "e8a98425-d5eb-4a85-91d6-4191616fcf18",
   "metadata": {
    "tags": []
   },
   "outputs": [
    {
     "data": {
      "text/plain": [
       "array([[1, 2, 3],\n",
       "       [4, 5, 6],\n",
       "       [7, 8, 9]])"
      ]
     },
     "execution_count": 48,
     "metadata": {},
     "output_type": "execute_result"
    }
   ],
   "source": [
    "A"
   ]
  },
  {
   "cell_type": "code",
   "execution_count": 49,
   "id": "16b55bb4-506c-4667-85d9-1f8fbf54b001",
   "metadata": {
    "tags": []
   },
   "outputs": [],
   "source": [
    "A[1] = np.array([10,10,10])"
   ]
  },
  {
   "cell_type": "code",
   "execution_count": 50,
   "id": "1d7c296a-8593-48f0-98bb-469c8f2591ba",
   "metadata": {
    "tags": []
   },
   "outputs": [
    {
     "data": {
      "text/plain": [
       "array([[ 1,  2,  3],\n",
       "       [10, 10, 10],\n",
       "       [ 7,  8,  9]])"
      ]
     },
     "execution_count": 50,
     "metadata": {},
     "output_type": "execute_result"
    }
   ],
   "source": [
    "A"
   ]
  },
  {
   "cell_type": "code",
   "execution_count": 51,
   "id": "fb4f6031-a8ec-4e55-b477-9a053997a289",
   "metadata": {
    "tags": []
   },
   "outputs": [
    {
     "data": {
      "text/plain": [
       "array([7, 8, 9])"
      ]
     },
     "execution_count": 51,
     "metadata": {},
     "output_type": "execute_result"
    }
   ],
   "source": [
    "A[2]"
   ]
  },
  {
   "cell_type": "markdown",
   "id": "56e697ee-ca5a-4c7a-bb67-7e070e0dc1d4",
   "metadata": {},
   "source": [
    "## Broadcasting and Vectorized operations"
   ]
  },
  {
   "cell_type": "code",
   "execution_count": 52,
   "id": "54089664-2255-4945-9901-4b9e9f3aa6c9",
   "metadata": {
    "tags": []
   },
   "outputs": [],
   "source": [
    "a = np.arange(4)"
   ]
  },
  {
   "cell_type": "code",
   "execution_count": 53,
   "id": "0b718ad3-b08f-499d-8fb4-90f94480381d",
   "metadata": {
    "tags": []
   },
   "outputs": [
    {
     "data": {
      "text/plain": [
       "array([0, 1, 2, 3])"
      ]
     },
     "execution_count": 53,
     "metadata": {},
     "output_type": "execute_result"
    }
   ],
   "source": [
    "a"
   ]
  },
  {
   "cell_type": "code",
   "execution_count": 54,
   "id": "bbaca745-a3f1-4fef-8f55-531a2746515e",
   "metadata": {
    "tags": []
   },
   "outputs": [
    {
     "data": {
      "text/plain": [
       "array([10, 11, 12, 13])"
      ]
     },
     "execution_count": 54,
     "metadata": {},
     "output_type": "execute_result"
    }
   ],
   "source": [
    "a + 10"
   ]
  },
  {
   "cell_type": "code",
   "execution_count": 55,
   "id": "57457fc9-7ca1-4ec4-9f1c-60ab992a04eb",
   "metadata": {
    "tags": []
   },
   "outputs": [
    {
     "data": {
      "text/plain": [
       "1.118033988749895"
      ]
     },
     "execution_count": 55,
     "metadata": {},
     "output_type": "execute_result"
    }
   ],
   "source": [
    "a.std()"
   ]
  },
  {
   "cell_type": "code",
   "execution_count": 56,
   "id": "2100a8f6-abb7-4fd3-9764-25081a9bded1",
   "metadata": {
    "tags": []
   },
   "outputs": [
    {
     "data": {
      "text/plain": [
       "array([ 0, 10, 20, 30])"
      ]
     },
     "execution_count": 56,
     "metadata": {},
     "output_type": "execute_result"
    }
   ],
   "source": [
    "a * 10"
   ]
  },
  {
   "cell_type": "code",
   "execution_count": 58,
   "id": "088ef528-6c1e-4ce8-9c1f-a83c90fa5b94",
   "metadata": {
    "tags": []
   },
   "outputs": [
    {
     "data": {
      "text/plain": [
       "1.118033988749895"
      ]
     },
     "execution_count": 58,
     "metadata": {},
     "output_type": "execute_result"
    }
   ],
   "source": [
    "a.std()"
   ]
  },
  {
   "cell_type": "code",
   "execution_count": 59,
   "id": "2d0833a5-d7c5-4988-9827-03d81a0810b3",
   "metadata": {
    "tags": []
   },
   "outputs": [],
   "source": [
    "a += 100"
   ]
  },
  {
   "cell_type": "code",
   "execution_count": 60,
   "id": "93be815d-8ed2-43d7-a9f7-526fb1b71e75",
   "metadata": {
    "tags": []
   },
   "outputs": [
    {
     "data": {
      "text/plain": [
       "array([100, 101, 102, 103])"
      ]
     },
     "execution_count": 60,
     "metadata": {},
     "output_type": "execute_result"
    }
   ],
   "source": [
    "a"
   ]
  },
  {
   "cell_type": "code",
   "execution_count": 63,
   "id": "87ae85ad-a456-457c-b495-3f67a398a1e5",
   "metadata": {
    "tags": []
   },
   "outputs": [],
   "source": [
    "l = [0,1,2,3,4]"
   ]
  },
  {
   "cell_type": "code",
   "execution_count": 62,
   "id": "28cdd6ca-bbbf-4678-bfc0-2de73ab6309a",
   "metadata": {
    "tags": []
   },
   "outputs": [
    {
     "data": {
      "text/plain": [
       "[0, 10, 20, 30, 40]"
      ]
     },
     "execution_count": 62,
     "metadata": {},
     "output_type": "execute_result"
    }
   ],
   "source": [
    "[i * 10 for i in l]"
   ]
  },
  {
   "cell_type": "code",
   "execution_count": 64,
   "id": "73deb56f-0bc0-4c27-9fe4-e987e69542d5",
   "metadata": {
    "tags": []
   },
   "outputs": [],
   "source": [
    "a = np.arange(4)"
   ]
  },
  {
   "cell_type": "code",
   "execution_count": 65,
   "id": "0599956f-103d-44eb-ac9f-9578a8ba12ac",
   "metadata": {
    "tags": []
   },
   "outputs": [
    {
     "data": {
      "text/plain": [
       "array([0, 1, 2, 3])"
      ]
     },
     "execution_count": 65,
     "metadata": {},
     "output_type": "execute_result"
    }
   ],
   "source": [
    "a"
   ]
  },
  {
   "cell_type": "markdown",
   "id": "7d5d9467-33a8-42a9-8dea-224a8e4e7445",
   "metadata": {},
   "source": [
    "## Boolean array"
   ]
  },
  {
   "cell_type": "code",
   "execution_count": 77,
   "id": "248a79f1-45ba-41a9-ac45-4e42bb0a9a72",
   "metadata": {
    "tags": []
   },
   "outputs": [],
   "source": [
    "a = np.arange(4)"
   ]
  },
  {
   "cell_type": "code",
   "execution_count": 78,
   "id": "95f3afb3-7b04-4476-8b3f-3e038c393417",
   "metadata": {
    "tags": []
   },
   "outputs": [
    {
     "data": {
      "text/plain": [
       "array([0, 1, 2, 3])"
      ]
     },
     "execution_count": 78,
     "metadata": {},
     "output_type": "execute_result"
    }
   ],
   "source": [
    "a"
   ]
  },
  {
   "cell_type": "code",
   "execution_count": 79,
   "id": "abb89ef4-bc0c-4679-ba65-c18570f8c05a",
   "metadata": {
    "tags": []
   },
   "outputs": [
    {
     "data": {
      "text/plain": [
       "(0, 3)"
      ]
     },
     "execution_count": 79,
     "metadata": {},
     "output_type": "execute_result"
    }
   ],
   "source": [
    "a[0], a[-1]"
   ]
  },
  {
   "cell_type": "code",
   "execution_count": 81,
   "id": "24a99498-6b44-4ce6-aa62-cf4f9e5e4bd5",
   "metadata": {
    "tags": []
   },
   "outputs": [
    {
     "data": {
      "text/plain": [
       "array([0, 3])"
      ]
     },
     "execution_count": 81,
     "metadata": {},
     "output_type": "execute_result"
    }
   ],
   "source": [
    "a[[True, False, False, True]]"
   ]
  },
  {
   "cell_type": "code",
   "execution_count": null,
   "id": "02425ab5-e6bd-4d69-942e-7752d8008e94",
   "metadata": {},
   "outputs": [],
   "source": []
  },
  {
   "cell_type": "code",
   "execution_count": null,
   "id": "faa98e0b-119b-4975-b40c-dc9c8cdac279",
   "metadata": {},
   "outputs": [],
   "source": []
  },
  {
   "cell_type": "code",
   "execution_count": null,
   "id": "139f1358-112f-44fc-9119-9f45d5d5ab59",
   "metadata": {},
   "outputs": [],
   "source": []
  },
  {
   "cell_type": "code",
   "execution_count": null,
   "id": "e1efcdde-6d9a-4d21-90b2-cfa1d4fcfd53",
   "metadata": {},
   "outputs": [],
   "source": []
  },
  {
   "cell_type": "code",
   "execution_count": null,
   "id": "59f3b974-34ec-4321-9a37-bd07b3adc3f3",
   "metadata": {},
   "outputs": [],
   "source": []
  },
  {
   "cell_type": "code",
   "execution_count": null,
   "id": "673965fe-25e2-47b2-b982-71a8682d2513",
   "metadata": {},
   "outputs": [],
   "source": []
  },
  {
   "cell_type": "code",
   "execution_count": null,
   "id": "9afb3805-b42e-45f1-bbfa-1c2c58be8dc1",
   "metadata": {},
   "outputs": [],
   "source": []
  },
  {
   "cell_type": "code",
   "execution_count": null,
   "id": "f8ae2b22-86f0-4f45-b522-ebba78c018cb",
   "metadata": {},
   "outputs": [],
   "source": []
  },
  {
   "cell_type": "code",
   "execution_count": null,
   "id": "bb1f1726-1211-4f92-bb11-e7b183e9141f",
   "metadata": {},
   "outputs": [],
   "source": []
  },
  {
   "cell_type": "code",
   "execution_count": null,
   "id": "afbceefc-e4a1-49c3-a131-1e8e4c9af614",
   "metadata": {},
   "outputs": [],
   "source": []
  },
  {
   "cell_type": "code",
   "execution_count": null,
   "id": "ab4e7dff-1ae9-4d73-bb21-a6a26c40bca5",
   "metadata": {},
   "outputs": [],
   "source": []
  },
  {
   "cell_type": "markdown",
   "id": "672224bd-0001-4fc9-b96e-ffe68cbe0feb",
   "metadata": {},
   "source": [
    "## API CALLS"
   ]
  },
  {
   "cell_type": "code",
   "execution_count": null,
   "id": "b6535a3d-0939-45e3-ac81-ae3deb5fd5d0",
   "metadata": {},
   "outputs": [],
   "source": []
  },
  {
   "cell_type": "code",
   "execution_count": 73,
   "id": "0afefea5-ac79-45f4-8e59-414c3cfaf346",
   "metadata": {
    "tags": []
   },
   "outputs": [],
   "source": [
    "key = 'ERgiOkUjJvSFpG3zMeaFYsBmbxrPjtkzf5MmYQHS'"
   ]
  },
  {
   "cell_type": "code",
   "execution_count": 68,
   "id": "0b116980-e37d-41e9-9058-62247f4cc9ef",
   "metadata": {
    "tags": []
   },
   "outputs": [],
   "source": [
    "import requests\n",
    "import json"
   ]
  },
  {
   "cell_type": "code",
   "execution_count": 70,
   "id": "72fe90b6-79cf-495e-bb78-5dd2d426362c",
   "metadata": {
    "tags": []
   },
   "outputs": [],
   "source": [
    "ean = '7070099420495'\n",
    "url  = 'https://kassal.app/api/v1/products/ean/'+ ean"
   ]
  },
  {
   "cell_type": "code",
   "execution_count": 74,
   "id": "dd6a3bf6-fa7d-4774-a9bd-9bbeb9cd8542",
   "metadata": {
    "tags": []
   },
   "outputs": [],
   "source": [
    "headers = {\n",
    "    \"Content-type\": \"application/json\",\n",
    "    \"Authorization\": \"Bearer \" + key\n",
    "}"
   ]
  },
  {
   "cell_type": "code",
   "execution_count": 76,
   "id": "e9277fc2-6927-447e-b348-734d6a45c699",
   "metadata": {
    "tags": []
   },
   "outputs": [
    {
     "name": "stdout",
     "output_type": "stream",
     "text": [
      "{'data': {'ean': '7070099420495', 'products': [{'id': 74094, 'name': 'Crispy Kuler Rosa 6mm 75g Cacas', 'vendor': 'Cacas', 'brand': 'Cacas', 'description': 'Pynt opp dine bakverk med disse lekre crispy kulene fra Cacas. Kulene har et senter av cornflakes og melkesjokolade, belagt med et tynt lag sukker og rosafarge. Disse sprø kulene er godt egnet til å brukes som dekorasjon på kaker og alle slags bakverk, el', 'ingredients': 'Sukker (57%), melkesjokolade (30,6%) [sukker, helmelkpulver, kakaosmør (min 20%), kakaomasse, emulgator (e322( soyalecitin )), naturlig vaniljesmak, kakaopulver (min 32%)], sprø kjerne (11%) [rismel, hvetemel, sukker, maltmel (hvete), hvetegluten, salt], stabilisator (e414, e473), kakaosmør, gelatin (storfe, halal sertifisert), farge (e174, e163), overflatebehandlingsmiddel (e903, e904).', 'url': 'https://meny.no/Varer/bakevarer-og-kjeks/baking/kakepynt/crispy-kuler-7070099420495', 'image': 'https://bilder.ngdata.no/7070099420495/meny/large.jpg', 'store': {'name': 'Meny', 'code': 'MENY_NO', 'url': 'https://meny.no/Varer', 'logo': 'https://cdn.kassal.app/c9002ba2-0141-4a7a-94d4-bfabb147e2f1/logos/Meny.svg'}, 'current_price': {'price': 99, 'date': '2023-06-04T07:01:28.000000Z'}, 'price_history': [{'price': 99, 'date': '2023-06-04T07:01:28.000000Z'}], 'kassalapp': {'url': 'https://kassal.app/vare/74094-crispy-kuler-rosa-6mm-75g-cacas-7070099420495', 'opengraph': 'https://cdn.kassal.app/c9002ba2-0141-4a7a-94d4-bfabb147e2f1/opengraph/products/74094.jpg'}, 'created_at': '2023-06-04T07:32:34.000000Z', 'updated_at': '2023-06-04T07:32:34.000000Z'}], 'allergens': [], 'nutrition': [{'code': 'energi_kcal', 'display_name': 'Kalorier', 'amount': 445, 'unit': 'kcal'}, {'code': 'energi_kj', 'display_name': 'Energi', 'amount': 1879, 'unit': 'kj'}, {'code': 'fett_totalt', 'display_name': 'Fett', 'amount': 10.7, 'unit': 'g'}, {'code': 'karbohydrater', 'display_name': 'Karbohydrater', 'amount': 83.7, 'unit': 'g'}, {'code': 'mettet_fett', 'display_name': 'Mettet fett', 'amount': 6.5, 'unit': 'g'}, {'code': 'protein', 'display_name': 'Protein', 'amount': 2.9, 'unit': 'g'}, {'code': 'salt', 'display_name': 'Salt', 'amount': 0.1, 'unit': 'g'}, {'code': 'sukkerarter', 'display_name': 'Sukkerarter', 'amount': 75, 'unit': 'g'}]}}\n"
     ]
    }
   ],
   "source": [
    "response  = requests.get(url, headers = headers)\n",
    "    \n",
    "if response.status_code == 200:\n",
    "    data = response.json()\n",
    "    print(data)\n",
    "else:\n",
    "    print(\"Request failed with status code:\", response.status_code)"
   ]
  },
  {
   "cell_type": "code",
   "execution_count": null,
   "id": "47afa00c-bf95-4958-8394-024357664349",
   "metadata": {},
   "outputs": [],
   "source": []
  }
 ],
 "metadata": {
  "kernelspec": {
   "display_name": "Python 3 (ipykernel)",
   "language": "python",
   "name": "python3"
  },
  "language_info": {
   "codemirror_mode": {
    "name": "ipython",
    "version": 3
   },
   "file_extension": ".py",
   "mimetype": "text/x-python",
   "name": "python",
   "nbconvert_exporter": "python",
   "pygments_lexer": "ipython3",
   "version": "3.8.16"
  }
 },
 "nbformat": 4,
 "nbformat_minor": 5
}
